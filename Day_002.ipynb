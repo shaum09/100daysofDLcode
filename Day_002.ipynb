{
  "nbformat": 4,
  "nbformat_minor": 0,
  "metadata": {
    "colab": {
      "name": "Day_002.ipynb",
      "provenance": [],
      "authorship_tag": "ABX9TyMO4eDk8f8jL9TjwNUWB1vZ",
      "include_colab_link": true
    },
    "kernelspec": {
      "name": "python3",
      "display_name": "Python 3"
    }
  },
  "cells": [
    {
      "cell_type": "markdown",
      "metadata": {
        "id": "view-in-github",
        "colab_type": "text"
      },
      "source": [
        "<a href=\"https://colab.research.google.com/github/shaum09/100daysofDLcode/blob/dev/Day_002.ipynb\" target=\"_parent\"><img src=\"https://colab.research.google.com/assets/colab-badge.svg\" alt=\"Open In Colab\"/></a>"
      ]
    },
    {
      "cell_type": "markdown",
      "metadata": {
        "id": "bwWX0kvsXsgq",
        "colab_type": "text"
      },
      "source": [
        "#Simple neural network\n",
        "\n",
        "\n",
        "---\n",
        "\n"
      ]
    },
    {
      "cell_type": "code",
      "metadata": {
        "id": "-lYfuli4XjH7",
        "colab_type": "code",
        "colab": {}
      },
      "source": [
        "import numpy, random, os\n",
        "lr = 1 #learning rate\n",
        "bias = 1 #value of bias\n",
        "weights = [random.random(),random.random(),random.random()] #weights generated in a list (3 weights in total for 2 neurons and the bias)"
      ],
      "execution_count": null,
      "outputs": []
    },
    {
      "cell_type": "code",
      "metadata": {
        "id": "swRTuohBX-En",
        "colab_type": "code",
        "colab": {}
      },
      "source": [
        "def Perceptron(input1, input2, output) :\n",
        "  outputP = input1*weights[0]+input2*weights[1]+bias*weights[2]\n",
        "  if outputP > 0 : #activation function (here Heaviside)\n",
        "    outputP = 1\n",
        "  else :\n",
        "    outputP = 0\n",
        "  error = output - outputP\n",
        "  weights[0] += error * input1 * lr\n",
        "  weights[1] += error * input2 * lr\n",
        "  weights[2] += error * bias * lr"
      ],
      "execution_count": null,
      "outputs": []
    },
    {
      "cell_type": "code",
      "metadata": {
        "id": "lnWENLwYYazJ",
        "colab_type": "code",
        "colab": {}
      },
      "source": [
        "for i in range(50) :\n",
        "   Perceptron(1,1,1) #True or true\n",
        "   Perceptron(1,0,1) #True or false\n",
        "   Perceptron(0,1,1) #False or true\n",
        "   Perceptron(0,0,0) #False or false"
      ],
      "execution_count": null,
      "outputs": []
    },
    {
      "cell_type": "code",
      "metadata": {
        "id": "DmwuZU2sZZoR",
        "colab_type": "code",
        "colab": {}
      },
      "source": [
        "x = int(input())\n",
        "y = int(input())\n",
        "outputP = x*weights[0] + y*weights[1] + bias*weights[2]\n",
        "if outputP > 0 : #activation function\n",
        "   outputP = 1\n",
        "else :\n",
        "   outputP = 0\n",
        "print(x, \"or\", y, \"is : \", outputP)"
      ],
      "execution_count": null,
      "outputs": []
    },
    {
      "cell_type": "code",
      "metadata": {
        "id": "Sy-hLxpZZfsl",
        "colab_type": "code",
        "colab": {}
      },
      "source": [
        " outputP = 1/(1+numpy.exp(-outputP)) #sigmoid function"
      ],
      "execution_count": null,
      "outputs": []
    },
    {
      "cell_type": "markdown",
      "metadata": {
        "id": "gpOAhTLIf6kD",
        "colab_type": "text"
      },
      "source": [
        ""
      ]
    },
    {
      "cell_type": "code",
      "metadata": {
        "id": "DXQhMoUkfzMU",
        "colab_type": "code",
        "colab": {}
      },
      "source": [
        ""
      ],
      "execution_count": null,
      "outputs": []
    }
  ]
}